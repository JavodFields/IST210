{
  "nbformat": 4,
  "nbformat_minor": 0,
  "metadata": {
    "colab": {
      "name": "PetShop.ipynb",
      "provenance": [],
      "authorship_tag": "ABX9TyNWZ6fYTLzRwYThOsrCPhlg",
      "include_colab_link": true
    },
    "kernelspec": {
      "name": "python3",
      "display_name": "Python 3"
    }
  },
  "cells": [
    {
      "cell_type": "markdown",
      "metadata": {
        "id": "view-in-github",
        "colab_type": "text"
      },
      "source": [
        "<a href=\"https://colab.research.google.com/github/JavodFields/IST210/blob/master/Lab2/PetShop.ipynb\" target=\"_parent\"><img src=\"https://colab.research.google.com/assets/colab-badge.svg\" alt=\"Open In Colab\"/></a>"
      ]
    },
    {
      "cell_type": "markdown",
      "metadata": {
        "id": "kdIk406h09d_",
        "colab_type": "text"
      },
      "source": [
        "## Pet Shop Business Model"
      ]
    },
    {
      "cell_type": "markdown",
      "metadata": {
        "id": "PY5s6fXpjseS",
        "colab_type": "text"
      },
      "source": [
        "I began by creating the six tables to represent each of the entities for the Pet Shop business model. The entities for this diagram included: enclosure, pet, food, food transaction, pet transaction, and customer. Once I had the tables created, I started to add the appropriate attributes to each. For the enclosure table, I made the primary key EnclosureID because it will allow the worker to identify where the animal is located. The different types of enclosures (ex. cage) were listed as the attributes. I connected the enclosure table to the pet table by adding EnclosureID to the attributes of the pet table because that’s where the pets were being kept. The pet table included PetID as the primary key along with species and color. I also added BarcodeID from the Food table as foreign key to identify which food is fed each animal. Using PetID as a foreign key I was able to connect it to PetTransaction. I created the table to house the price of the animal, the date of the adoption/purchase, the PetID as a foreign key, and the LoyaltyID of the customer who made the purchase also as a foreign key. LoyaltyID was used in the FoodTransaction table as well to connect to the Customer table which had the name of the buyer and their phone number. FoodTransaction has a primary key of FoodTransactionID and attributes that include the date of purchase, BarcodeID and the customer’s LoyaltyID. I used BarcodeID as a foreign key because it would allow me to connect to the Food table where it gives the details of the food product being bought."
      ]
    },
    {
      "cell_type": "markdown",
      "metadata": {
        "id": "IVJ01JkXz7ko",
        "colab_type": "text"
      },
      "source": [
        "![alt text](https://raw.githubusercontent.com/JavodFields/IST210/master/Lab2/images/PetShop.png)"
      ]
    }
  ]
}