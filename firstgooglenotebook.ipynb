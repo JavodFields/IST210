{
  "nbformat": 4,
  "nbformat_minor": 0,
  "metadata": {
    "colab": {
      "name": "firstgooglenotebook.ipynb",
      "provenance": [],
      "toc_visible": true,
      "authorship_tag": "ABX9TyOngcqYH1sV2Qr4Vq5CcgJT",
      "include_colab_link": true
    },
    "kernelspec": {
      "name": "python3",
      "display_name": "Python 3"
    }
  },
  "cells": [
    {
      "cell_type": "markdown",
      "metadata": {
        "id": "view-in-github",
        "colab_type": "text"
      },
      "source": [
        "<a href=\"https://colab.research.google.com/github/JavodFields/IST210/blob/master/firstgooglenotebook.ipynb\" target=\"_parent\"><img src=\"https://colab.research.google.com/assets/colab-badge.svg\" alt=\"Open In Colab\"/></a>"
      ]
    },
    {
      "cell_type": "markdown",
      "metadata": {
        "id": "Oq9zztSwFZDS",
        "colab_type": "text"
      },
      "source": [
        "##1. Your Name\n",
        "Javod Fields\n"
      ]
    },
    {
      "cell_type": "markdown",
      "metadata": {
        "id": "EERTIl4zFhK8",
        "colab_type": "text"
      },
      "source": [
        "##2. Your IST related interests\n",
        "coding\n",
        "\n",
        "web design\n",
        "\n",
        "\n"
      ]
    },
    {
      "cell_type": "markdown",
      "metadata": {
        "id": "UFUvcLV5Gb4G",
        "colab_type": "text"
      },
      "source": [
        "##3. Your future job/career \n",
        "Software developer/designer\n",
        "\n"
      ]
    },
    {
      "cell_type": "markdown",
      "metadata": {
        "id": "nb_MD43rHWbc",
        "colab_type": "text"
      },
      "source": [
        "##4. Add an appropriate picture of yourself![alt text](https://raw.githubusercontent.com/JavodFields/IST210/master/firstnotebook/Javod3.jpg)"
      ]
    }
  ]
}