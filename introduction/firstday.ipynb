{
  "nbformat": 4,
  "nbformat_minor": 0,
  "metadata": {
    "colab": {
      "name": "firstday.ipynb",
      "provenance": [],
      "authorship_tag": "ABX9TyOa9baZPEoRdqo3BuVzePjZ",
      "include_colab_link": true
    },
    "kernelspec": {
      "name": "python3",
      "display_name": "Python 3"
    }
  },
  "cells": [
    {
      "cell_type": "markdown",
      "metadata": {
        "id": "view-in-github",
        "colab_type": "text"
      },
      "source": [
        "<a href=\"https://colab.research.google.com/github/JavodFields/IST210/blob/master/introduction/firstday.ipynb\" target=\"_parent\"><img src=\"https://colab.research.google.com/assets/colab-badge.svg\" alt=\"Open In Colab\"/></a>"
      ]
    },
    {
      "cell_type": "code",
      "metadata": {
        "id": "HsYdxMY9zYOu",
        "colab_type": "code",
        "colab": {
          "base_uri": "https://localhost:8080/",
          "height": 35
        },
        "outputId": "a6b6606c-bfb0-4a45-e5e0-f435aa00a822"
      },
      "source": [
        "2+2"
      ],
      "execution_count": 4,
      "outputs": [
        {
          "output_type": "execute_result",
          "data": {
            "text/plain": [
              "4"
            ]
          },
          "metadata": {
            "tags": []
          },
          "execution_count": 4
        }
      ]
    },
    {
      "cell_type": "code",
      "metadata": {
        "id": "xY_04YZizvRf",
        "colab_type": "code",
        "colab": {
          "base_uri": "https://localhost:8080/",
          "height": 35
        },
        "outputId": "0043a379-bfa3-43e6-dea1-2afb830b2dc4"
      },
      "source": [
        "2+3"
      ],
      "execution_count": 5,
      "outputs": [
        {
          "output_type": "execute_result",
          "data": {
            "text/plain": [
              "5"
            ]
          },
          "metadata": {
            "tags": []
          },
          "execution_count": 5
        }
      ]
    },
    {
      "cell_type": "markdown",
      "metadata": {
        "id": "zq0nrzwD0ULr",
        "colab_type": "text"
      },
      "source": [
        "this is **bold**"
      ]
    },
    {
      "cell_type": "markdown",
      "metadata": {
        "id": "eVioH0FLz7QF",
        "colab_type": "text"
      },
      "source": [
        "This is my first notebook!"
      ]
    },
    {
      "cell_type": "markdown",
      "metadata": {
        "id": "GosXzTy10kGk",
        "colab_type": "text"
      },
      "source": [
        "### this is a header"
      ]
    },
    {
      "cell_type": "markdown",
      "metadata": {
        "id": "epbVcsWX0-KV",
        "colab_type": "text"
      },
      "source": [
        "#### header"
      ]
    },
    {
      "cell_type": "markdown",
      "metadata": {
        "id": "ptfUgOSf4JM9",
        "colab_type": "text"
      },
      "source": [
        "![alt text](https://raw.githubusercontent.com/JavodFields/IST210/master/introduction/oakland%20bridge.jpg)"
      ]
    }
  ]
}